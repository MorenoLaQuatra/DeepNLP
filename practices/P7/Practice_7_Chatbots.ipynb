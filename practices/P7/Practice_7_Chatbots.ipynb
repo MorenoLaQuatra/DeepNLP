{
  "nbformat": 4,
  "nbformat_minor": 0,
  "metadata": {
    "colab": {
      "name": "Practice 7 - Chatbots.ipynb",
      "provenance": [],
      "collapsed_sections": [],
      "authorship_tag": "ABX9TyPA6deu7phkH4O2t8PVJpCH",
      "include_colab_link": true
    },
    "kernelspec": {
      "name": "python3",
      "display_name": "Python 3"
    },
    "language_info": {
      "name": "python"
    }
  },
  "cells": [
    {
      "cell_type": "markdown",
      "metadata": {
        "id": "view-in-github",
        "colab_type": "text"
      },
      "source": [
        "<a href=\"https://colab.research.google.com/github/MorenoLaQuatra/DeepNLP/blob/main/practices/P7/Practice_7_Chatbots.ipynb\" target=\"_parent\"><img src=\"https://colab.research.google.com/assets/colab-badge.svg\" alt=\"Open In Colab\"/></a>"
      ]
    },
    {
      "cell_type": "markdown",
      "metadata": {
        "id": "Cq3YM-Q5SwNn"
      },
      "source": [
        "#**Deep Natural Language Processing @ PoliTO**\n",
        "\n",
        "\n",
        "---\n",
        "\n",
        "\n",
        "**Teaching Assistant:** Moreno La Quatra\n",
        "\n",
        "**Practice 7:** Chatbots"
      ]
    },
    {
      "cell_type": "markdown",
      "metadata": {
        "id": "lhUhU368S2Y-"
      },
      "source": [
        "# Simple chatbot architecture using RASA \n",
        "\n",
        "In this practice we will use [rasa](https://rasa.com/) to create a new chatbot.\n",
        "The goal of the practice is to explore the usage of intents, stories and domain definitions to add specific properties to our chatbot."
      ]
    },
    {
      "cell_type": "code",
      "metadata": {
        "id": "4_FQKauLS2FE"
      },
      "source": [
        "! pip install --upgrade pip==20.2\n",
        "! pip install ipython\n",
        "! pip install nest_asyncio\n",
        "! pip install tensoflow <= 2.4\n",
        "! pip install -U rasa\n",
        "! pip install awscli --ignore-installed six"
      ],
      "execution_count": null,
      "outputs": []
    },
    {
      "cell_type": "code",
      "metadata": {
        "id": "WBfiTzLeSn1p"
      },
      "source": [
        "!pip install -U ipython\n",
        "# restart runtime: Runtime -> Restart runtime"
      ],
      "execution_count": null,
      "outputs": []
    },
    {
      "cell_type": "markdown",
      "metadata": {
        "id": "jTiOyCEYTD8Z"
      },
      "source": [
        "## Question 1: First steps with rasa chatbots\n",
        "\n",
        "Execute and test the working function of boilerplate rasa code for basic chatpbot functionalities.\n",
        "\n",
        "\n",
        "\n"
      ]
    },
    {
      "cell_type": "code",
      "metadata": {
        "id": "1ZPM-_lwTK-l"
      },
      "source": [
        "%load_ext autoreload\n",
        "%autoreload 2\n",
        "\n",
        "import os\n",
        "import rasa\n",
        "import nest_asyncio\n",
        "from rasa.cli.scaffold import create_initial_project\n",
        "\n",
        "nest_asyncio.apply()\n",
        "print(\"Event loop ready.\")\n",
        "\n",
        "project = \"my-chatbot\"\n",
        "create_initial_project(project)\n",
        "os.chdir(project)\n",
        "\n",
        "config = \"config.yml\"\n",
        "training_files = \"data/\"\n",
        "domain = \"domain.yml\"\n",
        "output = \"models/\"\n",
        "print(config, training_files, domain, output)\n",
        "\n",
        "model_path = rasa.train(domain, config, [training_files], output)\n",
        "model_path = model_path.model"
      ],
      "execution_count": null,
      "outputs": []
    },
    {
      "cell_type": "code",
      "metadata": {
        "id": "SnUsn5jlTbNn"
      },
      "source": [
        "from rasa.jupyter import chat\n",
        "\n",
        "endpoints = \"endpoints.yml\"\n",
        "chat(model_path, endpoints)"
      ],
      "execution_count": null,
      "outputs": []
    },
    {
      "cell_type": "markdown",
      "metadata": {
        "id": "K4Tys9K2TKfS"
      },
      "source": [
        "## Question 2: your own chatbot\n",
        "\n",
        "RASA chatbots exploit the following files to recognize intents and take the corresponding actions:\n",
        "\n",
        "- `/data/nlu.yml`: contains the set of intents that are used by the chatbot for recognizing user request. This file contains examples that are used to generate examples to train the chatbot. NLU in [RASA doc](https://rasa.com/docs/rasa/training-data-format/#nlu-training-data).\n",
        "\n",
        "- `stories.yml`: this file contains the examples of interactions between the chatbot and the user. They define possible path of the conversation with corresponding chatbot actions, responses for each user input. Stories in [RASA doc](https://rasa.com/docs/rasa/stories).\n",
        "\n",
        "- `domain.yml`: according to the official documentation: `The domain defines the universe in which your assistant operates. It specifies the intents, entities, slots, responses, forms, and actions your bot should know about.` This file contains a list of information that your chatbot need to know to operate. Domain in [RASA doc](https://rasa.com/docs/rasa/domain/).\n",
        "\n",
        "\n",
        "Modify the base chatbot to recognize one or multiple new intents (e.g., user looking for the weather). \n",
        "\n",
        "Re-run training and demo of Q1 to qualitetively evaluate your changes.\n",
        "\n"
      ]
    },
    {
      "cell_type": "code",
      "metadata": {
        "id": "XPJSNzx1W-2f"
      },
      "source": [
        "# Your code here (you need to modify files in the file explorer section)"
      ],
      "execution_count": null,
      "outputs": []
    },
    {
      "cell_type": "markdown",
      "metadata": {
        "id": "rEEoqRyXbIaB"
      },
      "source": [
        "# Create a chatbot using transformers\n",
        "\n",
        " From a Natural Language Generation perspective, RASA library does not offers many functionalities. On the other side, it is useful to detect intent and take actions to satisfy user needs.\n",
        "\n",
        "![](https://huggingface.co/front/thumbnails/dialogpt.png)\n",
        "\n",
        "On the other side, [Huggingface pipelines module](https://huggingface.co/docs/transformers/master/en/main_classes/pipelines) is the best way to start buiding a conversational chatbot exploiting pretrained architectures (e.g., DialoGPT). The conversational pipeline allows the implementation of a simple chatbot with carry-on conversations. It exploit the DialoGPT models available on the model hub."
      ]
    },
    {
      "cell_type": "markdown",
      "source": [
        "## **Question 3: DialoGPT single answer**\n",
        "\n",
        "Create a conversational pipeline. Write a function that take the input from the user and generate the response for the model (1 iteration)."
      ],
      "metadata": {
        "id": "mpFpFIFHb6mN"
      }
    },
    {
      "cell_type": "code",
      "source": [
        "# Your code here"
      ],
      "metadata": {
        "id": "ro3KIC2JW4Dc"
      },
      "execution_count": null,
      "outputs": []
    },
    {
      "cell_type": "markdown",
      "source": [
        "## **Question 4: Conversations**\n",
        "\n",
        "Extend the previous function to generate a conversation with DialoGPT. Choose a stop sequence that let the user end the conversation."
      ],
      "metadata": {
        "id": "5ytWSQJq7dfr"
      }
    },
    {
      "cell_type": "code",
      "source": [
        "# Your code here"
      ],
      "metadata": {
        "id": "X2BnAufo7c5y"
      },
      "execution_count": null,
      "outputs": []
    },
    {
      "cell_type": "markdown",
      "source": [
        "### **Question 5: Artificial conversations** \n",
        "\n",
        "Create another instance of the pipeline. Let the bots talk each other and look at their conversations. It could be used for model training?\n",
        "\n",
        "Note: to startup conversation insert a single user-defined prompt."
      ],
      "metadata": {
        "id": "RUNapmc47r-J"
      }
    },
    {
      "cell_type": "code",
      "source": [
        "# Your code here"
      ],
      "metadata": {
        "id": "CmPmZdnrXLUU"
      },
      "execution_count": null,
      "outputs": []
    },
    {
      "cell_type": "markdown",
      "source": [
        "### **Question 5: Improving interaction** \n",
        "\n",
        "The conversations in the previous questions shows very limited variability. Create a new function to manually conversate with DialoGPT model by setting different parameters (e.g., [beam search](https://en.wikipedia.org/wiki/Beam_search) is disabled by default). To do so instantiate a new [DialoGPT model](https://huggingface.co/microsoft/DialoGPT-medium), it inherits from the `AutoModelForCausalLM`. \n",
        "\n",
        "Note: Basic examples on how to use the model are provided [here](https://huggingface.co/microsoft/DialoGPT-medium#how-to-use).\n",
        "\n",
        "Note 2: Take some time to explore the input for the [generate](https://huggingface.co/docs/transformers/master/en/main_classes/model#transformers.generation_utils.GenerationMixin.generate) function. Hereafter some examples of relevant parameters.\n",
        "```\n",
        "num_beams (int, optional, defaults to 1) — Number of beams for beam search. 1 means no beam search.\n",
        "temperature (float, optional, defaults to 1.0) — The value used to module the next token probabilities.\n",
        "```"
      ],
      "metadata": {
        "id": "Mvfkg1rn96Ay"
      }
    },
    {
      "cell_type": "code",
      "source": [
        "# Your code here"
      ],
      "metadata": {
        "id": "Y9iIvc77XNFs"
      },
      "execution_count": null,
      "outputs": []
    },
    {
      "cell_type": "markdown",
      "source": [
        "### **Question 6: Artificial conversations pt.2** \n",
        "\n",
        "Choose your preferred parameters' configuration obtained at Q5. Let the model chat with himself (similarly to Q3). How is the interaction?"
      ],
      "metadata": {
        "id": "HAPl82lLOWwO"
      }
    },
    {
      "cell_type": "code",
      "source": [
        "# Your code here"
      ],
      "metadata": {
        "id": "VtjO_W5-XQC8"
      },
      "execution_count": null,
      "outputs": []
    }
  ]
}